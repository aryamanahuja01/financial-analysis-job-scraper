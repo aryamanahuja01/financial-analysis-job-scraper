{
  "cells": [
    {
      "cell_type": "code",
      "execution_count": 1,
      "metadata": {
        "colab": {
          "base_uri": "https://localhost:8080/"
        },
        "id": "WxvIRSQqVpWO",
        "outputId": "09e8edbd-a8de-468e-982d-e5eee8f243a4"
      },
      "outputs": [
        {
          "name": "stdout",
          "output_type": "stream",
          "text": [
            "Requirement already satisfied: bs4 in /Users/kiperia/Documents/sample-code/arayaman-data-science/.venv/lib/python3.12/site-packages (0.0.2)\n",
            "Requirement already satisfied: beautifulsoup4 in /Users/kiperia/Documents/sample-code/arayaman-data-science/.venv/lib/python3.12/site-packages (from bs4) (4.13.4)\n",
            "Requirement already satisfied: soupsieve>1.2 in /Users/kiperia/Documents/sample-code/arayaman-data-science/.venv/lib/python3.12/site-packages (from beautifulsoup4->bs4) (2.7)\n",
            "Requirement already satisfied: typing-extensions>=4.0.0 in /Users/kiperia/Documents/sample-code/arayaman-data-science/.venv/lib/python3.12/site-packages (from beautifulsoup4->bs4) (4.13.2)\n",
            "Requirement already satisfied: sqlalchemy in /Users/kiperia/Documents/sample-code/arayaman-data-science/.venv/lib/python3.12/site-packages (2.0.40)\n",
            "Requirement already satisfied: typing-extensions>=4.6.0 in /Users/kiperia/Documents/sample-code/arayaman-data-science/.venv/lib/python3.12/site-packages (from sqlalchemy) (4.13.2)\n",
            "Requirement already satisfied: requests in /Users/kiperia/Documents/sample-code/arayaman-data-science/.venv/lib/python3.12/site-packages (2.32.3)\n",
            "Requirement already satisfied: charset-normalizer<4,>=2 in /Users/kiperia/Documents/sample-code/arayaman-data-science/.venv/lib/python3.12/site-packages (from requests) (3.4.2)\n",
            "Requirement already satisfied: idna<4,>=2.5 in /Users/kiperia/Documents/sample-code/arayaman-data-science/.venv/lib/python3.12/site-packages (from requests) (3.10)\n",
            "Requirement already satisfied: urllib3<3,>=1.21.1 in /Users/kiperia/Documents/sample-code/arayaman-data-science/.venv/lib/python3.12/site-packages (from requests) (2.4.0)\n",
            "Requirement already satisfied: certifi>=2017.4.17 in /Users/kiperia/Documents/sample-code/arayaman-data-science/.venv/lib/python3.12/site-packages (from requests) (2025.4.26)\n",
            "Requirement already satisfied: pandas in /Users/kiperia/Documents/sample-code/arayaman-data-science/.venv/lib/python3.12/site-packages (2.2.3)\n",
            "Requirement already satisfied: numpy>=1.26.0 in /Users/kiperia/Documents/sample-code/arayaman-data-science/.venv/lib/python3.12/site-packages (from pandas) (2.2.5)\n",
            "Requirement already satisfied: python-dateutil>=2.8.2 in /Users/kiperia/Documents/sample-code/arayaman-data-science/.venv/lib/python3.12/site-packages (from pandas) (2.9.0.post0)\n",
            "Requirement already satisfied: pytz>=2020.1 in /Users/kiperia/Documents/sample-code/arayaman-data-science/.venv/lib/python3.12/site-packages (from pandas) (2025.2)\n",
            "Requirement already satisfied: tzdata>=2022.7 in /Users/kiperia/Documents/sample-code/arayaman-data-science/.venv/lib/python3.12/site-packages (from pandas) (2025.2)\n",
            "Requirement already satisfied: six>=1.5 in /Users/kiperia/Documents/sample-code/arayaman-data-science/.venv/lib/python3.12/site-packages (from python-dateutil>=2.8.2->pandas) (1.17.0)\n",
            "Requirement already satisfied: firecrawl in /Users/kiperia/Documents/sample-code/arayaman-data-science/.venv/lib/python3.12/site-packages (2.5.4)\n",
            "Requirement already satisfied: requests in /Users/kiperia/Documents/sample-code/arayaman-data-science/.venv/lib/python3.12/site-packages (from firecrawl) (2.32.3)\n",
            "Requirement already satisfied: python-dotenv in /Users/kiperia/Documents/sample-code/arayaman-data-science/.venv/lib/python3.12/site-packages (from firecrawl) (1.1.0)\n",
            "Requirement already satisfied: websockets in /Users/kiperia/Documents/sample-code/arayaman-data-science/.venv/lib/python3.12/site-packages (from firecrawl) (15.0.1)\n",
            "Requirement already satisfied: nest-asyncio in /Users/kiperia/Documents/sample-code/arayaman-data-science/.venv/lib/python3.12/site-packages (from firecrawl) (1.6.0)\n",
            "Requirement already satisfied: pydantic in /Users/kiperia/Documents/sample-code/arayaman-data-science/.venv/lib/python3.12/site-packages (from firecrawl) (2.11.4)\n",
            "Requirement already satisfied: aiohttp in /Users/kiperia/Documents/sample-code/arayaman-data-science/.venv/lib/python3.12/site-packages (from firecrawl) (3.11.18)\n",
            "Requirement already satisfied: aiohappyeyeballs>=2.3.0 in /Users/kiperia/Documents/sample-code/arayaman-data-science/.venv/lib/python3.12/site-packages (from aiohttp->firecrawl) (2.6.1)\n",
            "Requirement already satisfied: aiosignal>=1.1.2 in /Users/kiperia/Documents/sample-code/arayaman-data-science/.venv/lib/python3.12/site-packages (from aiohttp->firecrawl) (1.3.2)\n",
            "Requirement already satisfied: attrs>=17.3.0 in /Users/kiperia/Documents/sample-code/arayaman-data-science/.venv/lib/python3.12/site-packages (from aiohttp->firecrawl) (25.3.0)\n",
            "Requirement already satisfied: frozenlist>=1.1.1 in /Users/kiperia/Documents/sample-code/arayaman-data-science/.venv/lib/python3.12/site-packages (from aiohttp->firecrawl) (1.6.0)\n",
            "Requirement already satisfied: multidict<7.0,>=4.5 in /Users/kiperia/Documents/sample-code/arayaman-data-science/.venv/lib/python3.12/site-packages (from aiohttp->firecrawl) (6.4.3)\n",
            "Requirement already satisfied: propcache>=0.2.0 in /Users/kiperia/Documents/sample-code/arayaman-data-science/.venv/lib/python3.12/site-packages (from aiohttp->firecrawl) (0.3.1)\n",
            "Requirement already satisfied: yarl<2.0,>=1.17.0 in /Users/kiperia/Documents/sample-code/arayaman-data-science/.venv/lib/python3.12/site-packages (from aiohttp->firecrawl) (1.20.0)\n",
            "Requirement already satisfied: idna>=2.0 in /Users/kiperia/Documents/sample-code/arayaman-data-science/.venv/lib/python3.12/site-packages (from yarl<2.0,>=1.17.0->aiohttp->firecrawl) (3.10)\n",
            "Requirement already satisfied: annotated-types>=0.6.0 in /Users/kiperia/Documents/sample-code/arayaman-data-science/.venv/lib/python3.12/site-packages (from pydantic->firecrawl) (0.7.0)\n",
            "Requirement already satisfied: pydantic-core==2.33.2 in /Users/kiperia/Documents/sample-code/arayaman-data-science/.venv/lib/python3.12/site-packages (from pydantic->firecrawl) (2.33.2)\n",
            "Requirement already satisfied: typing-extensions>=4.12.2 in /Users/kiperia/Documents/sample-code/arayaman-data-science/.venv/lib/python3.12/site-packages (from pydantic->firecrawl) (4.13.2)\n",
            "Requirement already satisfied: typing-inspection>=0.4.0 in /Users/kiperia/Documents/sample-code/arayaman-data-science/.venv/lib/python3.12/site-packages (from pydantic->firecrawl) (0.4.0)\n",
            "Requirement already satisfied: charset-normalizer<4,>=2 in /Users/kiperia/Documents/sample-code/arayaman-data-science/.venv/lib/python3.12/site-packages (from requests->firecrawl) (3.4.2)\n",
            "Requirement already satisfied: urllib3<3,>=1.21.1 in /Users/kiperia/Documents/sample-code/arayaman-data-science/.venv/lib/python3.12/site-packages (from requests->firecrawl) (2.4.0)\n",
            "Requirement already satisfied: certifi>=2017.4.17 in /Users/kiperia/Documents/sample-code/arayaman-data-science/.venv/lib/python3.12/site-packages (from requests->firecrawl) (2025.4.26)\n",
            "Requirement already satisfied: psycopg2 in /Users/kiperia/Documents/sample-code/arayaman-data-science/.venv/lib/python3.12/site-packages (2.9.10)\n"
          ]
        }
      ],
      "source": [
        "!pip install bs4\n",
        "!pip install sqlalchemy\n",
        "!pip install requests\n",
        "!pip install pandas\n",
        "!pip install firecrawl \n",
        "!pip install psycopg2"
      ]
    },
    {
      "cell_type": "code",
      "execution_count": 1,
      "metadata": {
        "id": "MNSaV25EV4By"
      },
      "outputs": [],
      "source": [
        "from bs4 import BeautifulSoup\n",
        "from firecrawl import FirecrawlApp\n",
        "app = FirecrawlApp(api_key='fc-e6d03fc937144bc2a873053cfecd5987')\n",
        "target_url = 'https://www.indeed.com/jobs?q=financial+analyst&l=&vjk=5484793a522f9eed'\n",
        "\n",
        "# Scrape the raw HTML\n",
        "scrape_result = app.scrape_url(target_url, formats=['html'])\n",
        "\n"
      ]
    },
    {
      "cell_type": "code",
      "execution_count": 18,
      "metadata": {
        "id": "sPiPb7UnWDXs"
      },
      "outputs": [
        {
          "name": "stdout",
          "output_type": "stream",
          "text": [
            "{'job_title': 'Financial Systems Analyst', 'job_salary': '110000', 'company_name_location': 'California Dental AssociationRemote'}\n",
            "{'job_title': 'Financial Analyst', 'job_salary': '70000', 'company_name_location': 'ReadyNineRemote'}\n",
            "{'job_title': 'Financial Analyst', 'job_salary': '75617', 'company_name_location': 'NAVAC Inc.Lyndhurst, NJ 07071'}\n",
            "{'job_title': 'Financial Analyst', 'job_salary': '92500', 'company_name_location': 'Advanced Medical ManageLong Beach, CA 90815'}\n",
            "{'job_title': 'Financial Analyst', 'job_salary': '75000', 'company_name_location': 'Bunting Magnetics Co.DuBois, PA 15801'}\n",
            "{'job_title': 'Financial Analyst', 'job_salary': '65000', 'company_name_location': 'Fareva USAHenrico, VA 23231'}\n",
            "{'job_title': 'Financial Analyst', 'job_salary': '79800', 'company_name_location': 'Visiting Nurse Service of New York d/b/a VNS...Remote in New York, NY 10001'}\n",
            "{'job_title': 'Senior Financial Analyst - Operations', 'job_salary': '130000', 'company_name_location': 'DivertRemote in Columbus, OH 43219'}\n",
            "{'job_title': 'Financial Planning & Analyst', 'job_salary': '65000', 'company_name_location': 'Affiliated MonitoringUnion, NJ 07083'}\n",
            "{'job_title': 'Analyst / Associate - Financial Modeling', 'job_salary': '65000', 'company_name_location': 'MeridiamWashington, DC'}\n",
            "{'job_title': 'Finance Analyst', 'job_salary': '65000', 'company_name_location': 'Meritage Homes CorporationScottsdale, AZ 85255'}\n",
            "{'job_title': 'Financial Analyst', 'job_salary': '25', 'company_name_location': 'Lysosomal & Rare Disorders Research & Treatment...Hybrid work in Fairfax, VA 22030'}\n",
            "{'job_title': 'Procurement Financial Analyst', 'job_salary': '93760', 'company_name_location': 'Coast SystemsRemote in Florida'}\n",
            "{'job_title': 'Corporate Financial Analyst', 'job_salary': '95000', 'company_name_location': 'Benore Logistic Systems, IncErie, MI 48133'}\n",
            "{'job_title': 'FINANCIAL ANALYST', 'job_salary': '70000', 'company_name_location': 'House Of Spices IndiaEdison, NJ 08817'}\n"
          ]
        }
      ],
      "source": [
        "import re\n",
        "# Access the HTML content from the response object\n",
        "html_content = scrape_result.html  # ✅ This is the correct attribute\n",
        "\n",
        "# Parse with BeautifulSoup\n",
        "soup = BeautifulSoup(html_content, 'html.parser')\n",
        "\n",
        "# Find the first job listing\n",
        "# get all jobs from the page\n",
        "\n",
        "job_cards = soup.select('.resultContent')\n",
        "\n",
        "\n",
        "def extract_average_salary(salary_str):\n",
        "    try:\n",
        "        # Find all numbers in the string (removes commas)\n",
        "        numbers = re.findall(r'\\d[\\d,]*', salary_str)\n",
        "        salaries = [int(num.replace(',', '')) for num in numbers]\n",
        "\n",
        "        if len(salaries) == 0:\n",
        "            return -1\n",
        "        elif len(salaries) == 1:\n",
        "            return salaries[0]\n",
        "        else:\n",
        "            return sum(salaries[:2]) // 2  # Only average the first two numbers\n",
        "    except:\n",
        "        return -1\n",
        "\n",
        "i = 0\n",
        "all_jobs = []\n",
        "# Extract data\n",
        "for job in job_cards:\n",
        "    company_location = job.select_one('div.company_location')\n",
        "    job_title = job.select_one('h2.jobTitle')\n",
        "    salary = job.select_one('.salary-snippet-container')\n",
        "    # Get the job title and link\n",
        "    if job_title is not None:\n",
        "        job_title_text = job_title.get_text(strip=True)\n",
        "    else:\n",
        "        job_title_text = \"N/A\"\n",
        "\n",
        "    if salary is not None:\n",
        "        job_salary_text = str(extract_average_salary(salary.get_text(strip=True)))\n",
        "    else:\n",
        "        job_salary_text = \"65000\"\n",
        "    \n",
        "    if company_location is not None:\n",
        "        company_location_text = company_location.get_text(strip=True)\n",
        "    else:\n",
        "        company_location_text = \"N/A\"\n",
        "\n",
        "    job = {\n",
        "        'job_title': job_title_text,\n",
        "        'job_salary': job_salary_text,\n",
        "        'company_name_location': company_location_text\n",
        "    }\n",
        "    print(job)\n",
        "    all_jobs.append(job)\n",
        "    \n"
      ]
    },
    {
      "cell_type": "code",
      "execution_count": 20,
      "metadata": {
        "colab": {
          "base_uri": "https://localhost:8080/"
        },
        "id": "EJeVBybyWGVw",
        "outputId": "483b32ab-6baf-4062-b650-7de2f1301fa0"
      },
      "outputs": [],
      "source": [
        "import os\n",
        "from dotenv import load_dotenv\n",
        "from sqlalchemy import create_engine, text\n",
        "from sqlalchemy.exc import SQLAlchemyError\n",
        "\n",
        "# Load credentials from .env\n",
        "load_dotenv()\n",
        "\n",
        "# Database connection info\n",
        "DB_HOST = os.getenv(\"DB_HOST\")\n",
        "DB_PORT = os.getenv(\"DB_PORT\")\n",
        "DB_NAME = os.getenv(\"DB_NAME\")\n",
        "DB_USER = os.getenv(\"DB_USER\")\n",
        "DB_PASSWORD = os.getenv(\"DB_PASSWORD\")\n",
        "\n",
        "# Create SQLAlchemy engine\n",
        "engine = create_engine(\n",
        "    f\"postgresql+psycopg2://{DB_USER}:{DB_PASSWORD}@{DB_HOST}:{DB_PORT}/{DB_NAME}\"\n",
        ")\n",
        "\n",
        "# SQL statements\n",
        "CREATE_TABLE_QUERY = \"\"\"\n",
        "CREATE TABLE IF NOT EXISTS indeed_jobs (\n",
        "    id SERIAL PRIMARY KEY,\n",
        "    job_title TEXT,\n",
        "    job_salary TEXT,\n",
        "    company_name_location TEXT\n",
        ");\n",
        "\"\"\"\n",
        "\n",
        "INSERT_QUERY = \"\"\"\n",
        "INSERT INTO indeed_jobs (\n",
        "    job_title, job_salary, company_name_location\n",
        ")\n",
        "VALUES (\n",
        "    :job_title, :job_salary, :company_name_location\n",
        ") \n",
        "RETURNING id;\n",
        "\"\"\"\n",
        "\n"
      ]
    },
    {
      "cell_type": "code",
      "execution_count": 21,
      "metadata": {},
      "outputs": [
        {
          "name": "stdout",
          "output_type": "stream",
          "text": [
            "Inserted 15 job listings into the database.\n"
          ]
        }
      ],
      "source": [
        "\n",
        "# Execute DB operations\n",
        "try:\n",
        "    with engine.begin() as conn:  # automatically commits or rolls back\n",
        "        conn.execute(text(CREATE_TABLE_QUERY))\n",
        "        \n",
        "        for job in all_jobs:\n",
        "            # Execute the insert statement\n",
        "            conn.execute(text(INSERT_QUERY), job)\n",
        "\n",
        "        print(f\"Inserted {len(all_jobs)} job listings into the database.\")\n",
        "except SQLAlchemyError as e:\n",
        "    print(\"Database error:\", e)"
      ]
    }
  ],
  "metadata": {
    "colab": {
      "provenance": []
    },
    "kernelspec": {
      "display_name": ".venv",
      "language": "python",
      "name": "python3"
    },
    "language_info": {
      "codemirror_mode": {
        "name": "ipython",
        "version": 3
      },
      "file_extension": ".py",
      "mimetype": "text/x-python",
      "name": "python",
      "nbconvert_exporter": "python",
      "pygments_lexer": "ipython3",
      "version": "3.12.9"
    }
  },
  "nbformat": 4,
  "nbformat_minor": 0
}
