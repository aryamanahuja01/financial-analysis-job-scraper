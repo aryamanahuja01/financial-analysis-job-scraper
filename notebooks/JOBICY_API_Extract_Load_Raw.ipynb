{
  "cells": [
    {
      "cell_type": "code",
      "execution_count": null,
      "metadata": {
        "id": "bsOHG2-vWhkF"
      },
      "outputs": [],
      "source": []
    },
    {
      "cell_type": "code",
      "execution_count": null,
      "metadata": {
        "id": "GCFYa3Excv6x"
      },
      "outputs": [],
      "source": [
        "import requests\n",
        "import json\n",
        "import os\n",
        "from dotenv import load_dotenv\n",
        "from sqlalchemy import create_engine, text\n",
        "from sqlalchemy.exc import SQLAlchemyError\n",
        "\n",
        "# Load credentials from .env\n",
        "load_dotenv()\n",
        "\n",
        "# Database connection info\n",
        "DB_HOST = os.getenv(\"DB_HOST\")\n",
        "DB_PORT = os.getenv(\"DB_PORT\")\n",
        "DB_NAME = os.getenv(\"DB_NAME\")\n",
        "DB_USER = os.getenv(\"DB_USER\")\n",
        "DB_PASSWORD = os.getenv(\"DB_PASSWORD\")\n",
        "API_URL = \"https://jobicy.com/api/v2/remote-jobs?count=5&geo=usa&industry=accounting-finance\"\n",
        "\n",
        "# Create SQLAlchemy engine\n",
        "engine = create_engine(\n",
        "    f\"postgresql+psycopg2://{DB_USER}:{DB_PASSWORD}@{DB_HOST}:{DB_PORT}/{DB_NAME}\"\n",
        ")\n",
        "\n",
        "# Fetch job data from API\n",
        "response = requests.get(API_URL)\n",
        "data = response.json()\n",
        "jobs = data.get(\"jobs\", [])\n",
        "\n"
      ]
    },
    {
      "cell_type": "code",
      "execution_count": null,
      "metadata": {},
      "outputs": [],
      "source": [
        "\n",
        "\n",
        "# SQL statements\n",
        "CREATE_TABLE_QUERY = \"\"\"\n",
        "CREATE TABLE IF NOT EXISTS remote_jobs (\n",
        "    id INTEGER PRIMARY KEY,\n",
        "    url TEXT,\n",
        "    job_slug TEXT,\n",
        "    job_title TEXT,\n",
        "    company_name TEXT,\n",
        "    company_logo TEXT,\n",
        "    job_industry TEXT[],\n",
        "    job_type TEXT[],\n",
        "    job_geo TEXT,\n",
        "    job_level TEXT,\n",
        "    job_excerpt TEXT,\n",
        "    job_description TEXT,\n",
        "    pub_date TIMESTAMP,\n",
        "    annual_salary_min INTEGER,\n",
        "    annual_salary_max INTEGER,\n",
        "    salary_currency TEXT\n",
        ");\n",
        "\"\"\"\n",
        "\n",
        "INSERT_QUERY = \"\"\"\n",
        "INSERT INTO remote_jobs (\n",
        "    id, url, job_slug, job_title, company_name, company_logo,\n",
        "    job_industry, job_type, job_geo, job_level,\n",
        "    job_excerpt, job_description, pub_date,\n",
        "    annual_salary_min, annual_salary_max, salary_currency\n",
        ")\n",
        "VALUES (\n",
        "    :id, :url, :jobSlug, :jobTitle, :companyName, :companyLogo,\n",
        "    :jobIndustry, :jobType, :jobGeo, :jobLevel,\n",
        "    :jobExcerpt, :jobDescription, :pubDate,\n",
        "    :annualSalaryMin, :annualSalaryMax, :salaryCurrency\n",
        ")\n",
        "ON CONFLICT (id) DO NOTHING;\n",
        "\"\"\"\n",
        "\n",
        "# Execute DB operations\n",
        "try:\n",
        "    with engine.begin() as conn:  # automatically commits or rolls back\n",
        "        conn.execute(text(CREATE_TABLE_QUERY))\n",
        "        \n",
        "        for job in jobs:\n",
        "            job[\"jobIndustry\"] = job.get(\"jobIndustry\", [])\n",
        "            job[\"jobType\"] = job.get(\"jobType\", [])\n",
        "            job[\"jobDescription\"] = job.get(\"jobDescription\", \"\").strip()\n",
        "            job[\"jobExcerpt\"] = job.get(\"jobExcerpt\", \"\").strip()\n",
        "            \n",
        "            conn.execute(text(INSERT_QUERY), job)\n",
        "\n",
        "    print(f\"{len(jobs)} job(s) inserted successfully.\")\n",
        "\n",
        "except SQLAlchemyError as e:\n",
        "    print(\"Database error:\", e)\n"
      ]
    }
  ],
  "metadata": {
    "colab": {
      "provenance": []
    },
    "kernelspec": {
      "display_name": "Python 3",
      "name": "python3"
    },
    "language_info": {
      "name": "python"
    }
  },
  "nbformat": 4,
  "nbformat_minor": 0
}
