{
  "cells": [
    {
      "cell_type": "code",
      "execution_count": 3,
      "metadata": {
        "id": "bsOHG2-vWhkF"
      },
      "outputs": [
        {
          "name": "stdout",
          "output_type": "stream",
          "text": [
            "Requirement already satisfied: dotenv in /Users/kiperia/Documents/sample-code/arayaman-data-science/.venv/lib/python3.12/site-packages (0.9.9)\n",
            "Requirement already satisfied: python-dotenv in /Users/kiperia/Documents/sample-code/arayaman-data-science/.venv/lib/python3.12/site-packages (from dotenv) (1.1.0)\n",
            "Requirement already satisfied: sqlalchemy in /Users/kiperia/Documents/sample-code/arayaman-data-science/.venv/lib/python3.12/site-packages (2.0.40)\n",
            "Requirement already satisfied: typing-extensions>=4.6.0 in /Users/kiperia/Documents/sample-code/arayaman-data-science/.venv/lib/python3.12/site-packages (from sqlalchemy) (4.13.2)\n",
            "Requirement already satisfied: requests in /Users/kiperia/Documents/sample-code/arayaman-data-science/.venv/lib/python3.12/site-packages (2.32.3)\n",
            "Requirement already satisfied: charset-normalizer<4,>=2 in /Users/kiperia/Documents/sample-code/arayaman-data-science/.venv/lib/python3.12/site-packages (from requests) (3.4.2)\n",
            "Requirement already satisfied: idna<4,>=2.5 in /Users/kiperia/Documents/sample-code/arayaman-data-science/.venv/lib/python3.12/site-packages (from requests) (3.10)\n",
            "Requirement already satisfied: urllib3<3,>=1.21.1 in /Users/kiperia/Documents/sample-code/arayaman-data-science/.venv/lib/python3.12/site-packages (from requests) (2.4.0)\n",
            "Requirement already satisfied: certifi>=2017.4.17 in /Users/kiperia/Documents/sample-code/arayaman-data-science/.venv/lib/python3.12/site-packages (from requests) (2025.4.26)\n",
            "Requirement already satisfied: pandas in /Users/kiperia/Documents/sample-code/arayaman-data-science/.venv/lib/python3.12/site-packages (2.2.3)\n",
            "Requirement already satisfied: numpy>=1.26.0 in /Users/kiperia/Documents/sample-code/arayaman-data-science/.venv/lib/python3.12/site-packages (from pandas) (2.2.5)\n",
            "Requirement already satisfied: python-dateutil>=2.8.2 in /Users/kiperia/Documents/sample-code/arayaman-data-science/.venv/lib/python3.12/site-packages (from pandas) (2.9.0.post0)\n",
            "Requirement already satisfied: pytz>=2020.1 in /Users/kiperia/Documents/sample-code/arayaman-data-science/.venv/lib/python3.12/site-packages (from pandas) (2025.2)\n",
            "Requirement already satisfied: tzdata>=2022.7 in /Users/kiperia/Documents/sample-code/arayaman-data-science/.venv/lib/python3.12/site-packages (from pandas) (2025.2)\n",
            "Requirement already satisfied: six>=1.5 in /Users/kiperia/Documents/sample-code/arayaman-data-science/.venv/lib/python3.12/site-packages (from python-dateutil>=2.8.2->pandas) (1.17.0)\n",
            "Collecting psycopg2\n",
            "  Using cached psycopg2-2.9.10-cp312-cp312-macosx_11_0_arm64.whl\n",
            "Installing collected packages: psycopg2\n",
            "Successfully installed psycopg2-2.9.10\n"
          ]
        }
      ],
      "source": [
        "!pip install dotenv\n",
        "!pip install sqlalchemy\n",
        "!pip install requests\n",
        "!pip install pandas\n",
        "!pip install psycopg2\n"
      ]
    },
    {
      "cell_type": "code",
      "execution_count": 4,
      "metadata": {
        "id": "GCFYa3Excv6x"
      },
      "outputs": [],
      "source": [
        "import requests\n",
        "import os\n",
        "from dotenv import load_dotenv\n",
        "from sqlalchemy import create_engine, text\n",
        "from sqlalchemy.exc import SQLAlchemyError\n",
        "\n",
        "# Load credentials from .env\n",
        "load_dotenv()\n",
        "\n",
        "# Database connection info\n",
        "DB_HOST = os.getenv(\"DB_HOST\")\n",
        "DB_PORT = os.getenv(\"DB_PORT\")\n",
        "DB_NAME = os.getenv(\"DB_NAME\")\n",
        "DB_USER = os.getenv(\"DB_USER\")\n",
        "DB_PASSWORD = os.getenv(\"DB_PASSWORD\")\n",
        "API_URL = \"https://jobicy.com/api/v2/remote-jobs?count=5&geo=usa&industry=accounting-finance\"\n",
        "\n",
        "# Create SQLAlchemy engine\n",
        "engine = create_engine(\n",
        "    f\"postgresql+psycopg2://{DB_USER}:{DB_PASSWORD}@{DB_HOST}:{DB_PORT}/{DB_NAME}\"\n",
        ")\n",
        "\n",
        "# Fetch job data from API\n",
        "response = requests.get(API_URL)\n",
        "data = response.json()\n",
        "jobs = data.get(\"jobs\", [])\n",
        "\n"
      ]
    },
    {
      "cell_type": "code",
      "execution_count": 6,
      "metadata": {},
      "outputs": [
        {
          "name": "stdout",
          "output_type": "stream",
          "text": [
            "5 job(s) inserted successfully.\n"
          ]
        }
      ],
      "source": [
        "\n",
        "\n",
        "# SQL statements\n",
        "CREATE_TABLE_QUERY = \"\"\"\n",
        "CREATE TABLE IF NOT EXISTS remote_jobs (\n",
        "    id INTEGER PRIMARY KEY,\n",
        "    url TEXT,\n",
        "    job_slug TEXT,\n",
        "    job_title TEXT,\n",
        "    company_name TEXT,\n",
        "    company_logo TEXT,\n",
        "    job_industry TEXT[],\n",
        "    job_type TEXT[],\n",
        "    job_geo TEXT,\n",
        "    job_level TEXT,\n",
        "    job_excerpt TEXT,\n",
        "    job_description TEXT,\n",
        "    pub_date TIMESTAMP,\n",
        "    annual_salary_min INTEGER,\n",
        "    annual_salary_max INTEGER,\n",
        "    salary_currency TEXT\n",
        ");\n",
        "\"\"\"\n",
        "\n",
        "INSERT_QUERY = \"\"\"\n",
        "INSERT INTO remote_jobs (\n",
        "    id, url, job_slug, job_title, company_name, company_logo,\n",
        "    job_industry, job_type, job_geo, job_level,\n",
        "    job_excerpt, job_description, pub_date,\n",
        "    annual_salary_min, annual_salary_max, salary_currency\n",
        ")\n",
        "VALUES (\n",
        "    :id, :url, :jobSlug, :jobTitle, :companyName, :companyLogo,\n",
        "    :jobIndustry, :jobType, :jobGeo, :jobLevel,\n",
        "    :jobExcerpt, :jobDescription, :pubDate,\n",
        "    :annualSalaryMin, :annualSalaryMax, :salaryCurrency\n",
        ")\n",
        "ON CONFLICT (id) DO NOTHING;\n",
        "\"\"\"\n",
        "\n",
        "# Execute DB operations\n",
        "try:\n",
        "    with engine.begin() as conn:  # automatically commits or rolls back\n",
        "        conn.execute(text(CREATE_TABLE_QUERY))\n",
        "        \n",
        "        for job in jobs:\n",
        "            job[\"id\"] = job.get(\"id\", 1)\n",
        "            job[\"url\"] = job.get(\"url\", \"\").strip()\n",
        "            job[\"jobIndustry\"] = job.get(\"jobIndustry\", [])\n",
        "            job[\"jobType\"] = job.get(\"jobType\", [])\n",
        "            job[\"jobSlug\"] = job.get(\"jobSlug\", \"\").strip()\n",
        "            job[\"jobTitle\"] = job.get(\"jobTitle\",\"\").strip()\n",
        "            job[\"companyName\"] = job.get(\"companyName\", \"\").strip()\n",
        "            job[\"companyLogo\"] = job.get(\"companyLogo\", \"\").strip()\n",
        "            job[\"jobGeo\"] = job.get(\"jobGeo\", \"\").strip()\n",
        "            job[\"jobLevel\"] = job.get(\"jobLevel\", \"\").strip()\n",
        "            job[\"jobExcerpt\"] = job.get(\"jobExcerpt\", \"\").strip()\n",
        "            job[\"jobDescription\"] = job.get(\"jobDescription\", \"\").strip()\n",
        "            job[\"pubDate\"] = job.get(\"pubDate\", None).strip()\n",
        "            job[\"annualSalaryMin\"] = job.get(\"annualSalaryMin\", 0)\n",
        "            job[\"annualSalaryMax\"] = job.get(\"annualSalaryMax\", 0)\n",
        "            job[\"salaryCurrency\"] = job.get(\"salaryCurrency\", \"\").strip()\n",
        "            \n",
        "            conn.execute(text(INSERT_QUERY), job)\n",
        "\n",
        "    print(f\"{len(jobs)} job(s) inserted successfully.\")\n",
        "\n",
        "except SQLAlchemyError as e:\n",
        "    print(\"Database error:\", e)\n"
      ]
    }
  ],
  "metadata": {
    "colab": {
      "provenance": []
    },
    "kernelspec": {
      "display_name": ".venv",
      "language": "python",
      "name": "python3"
    },
    "language_info": {
      "codemirror_mode": {
        "name": "ipython",
        "version": 3
      },
      "file_extension": ".py",
      "mimetype": "text/x-python",
      "name": "python",
      "nbconvert_exporter": "python",
      "pygments_lexer": "ipython3",
      "version": "3.12.9"
    }
  },
  "nbformat": 4,
  "nbformat_minor": 0
}
