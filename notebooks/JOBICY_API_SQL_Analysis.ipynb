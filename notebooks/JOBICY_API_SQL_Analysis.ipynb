{
  "cells": [
    {
      "cell_type": "code",
      "execution_count": null,
      "metadata": {
        "id": "bsOHG2-vWhkF"
      },
      "outputs": [],
      "source": [
        "!pip install dotenv\n",
        "!pip install sqlalchemy\n",
        "!pip install pandas\n"
      ]
    },
    {
      "cell_type": "code",
      "execution_count": 1,
      "metadata": {
        "id": "GCFYa3Excv6x"
      },
      "outputs": [],
      "source": [
        "\n",
        "import pandas as pd\n",
        "from sqlalchemy import create_engine\n",
        "import os\n",
        "from dotenv import load_dotenv\n",
        "\n",
        "# Load credentials from .env\n",
        "load_dotenv()\n",
        "\n",
        "# Database connection info\n",
        "DB_HOST = os.getenv(\"DB_HOST\")\n",
        "DB_PORT = os.getenv(\"DB_PORT\")\n",
        "DB_NAME = os.getenv(\"DB_NAME\")\n",
        "DB_USER = os.getenv(\"DB_USER\")\n",
        "DB_PASSWORD = os.getenv(\"DB_PASSWORD\")\n",
        "\n",
        "# Create SQLAlchemy engine\n",
        "engine = create_engine(\n",
        "    f\"postgresql+psycopg2://{DB_USER}:{DB_PASSWORD}@{DB_HOST}:{DB_PORT}/{DB_NAME}\"\n",
        ")\n",
        "\n",
        "\n"
      ]
    },
    {
      "cell_type": "markdown",
      "metadata": {},
      "source": [
        "##### Remote Jobs + Indeed Jobs Analysis Notebook\n",
        "\n",
        "##### ======================================================\n",
        "##### 📊 Remote Jobs - Descriptive Query\n",
        "##### ======================================================\n",
        "\n",
        "#### Business Question:\n",
        "#### What are the average salary ranges grouped by job level?\n",
        "\n",
        "\n",
        "\n"
      ]
    },
    {
      "cell_type": "code",
      "execution_count": 11,
      "metadata": {},
      "outputs": [
        {
          "data": {
            "text/html": [
              "<div>\n",
              "<style scoped>\n",
              "    .dataframe tbody tr th:only-of-type {\n",
              "        vertical-align: middle;\n",
              "    }\n",
              "\n",
              "    .dataframe tbody tr th {\n",
              "        vertical-align: top;\n",
              "    }\n",
              "\n",
              "    .dataframe thead th {\n",
              "        text-align: right;\n",
              "    }\n",
              "</style>\n",
              "<table border=\"1\" class=\"dataframe\">\n",
              "  <thead>\n",
              "    <tr style=\"text-align: right;\">\n",
              "      <th></th>\n",
              "      <th>job_level</th>\n",
              "      <th>job_count</th>\n",
              "      <th>avg_salary_min</th>\n",
              "      <th>avg_salary_max</th>\n",
              "    </tr>\n",
              "  </thead>\n",
              "  <tbody>\n",
              "    <tr>\n",
              "      <th>0</th>\n",
              "      <td>Senior</td>\n",
              "      <td>1</td>\n",
              "      <td>74000.0</td>\n",
              "      <td>125000.0</td>\n",
              "    </tr>\n",
              "    <tr>\n",
              "      <th>1</th>\n",
              "      <td>Any</td>\n",
              "      <td>4</td>\n",
              "      <td>65000.0</td>\n",
              "      <td>78750.0</td>\n",
              "    </tr>\n",
              "  </tbody>\n",
              "</table>\n",
              "</div>"
            ],
            "text/plain": [
              "  job_level  job_count  avg_salary_min  avg_salary_max\n",
              "0    Senior          1         74000.0        125000.0\n",
              "1       Any          4         65000.0         78750.0"
            ]
          },
          "execution_count": 11,
          "metadata": {},
          "output_type": "execute_result"
        }
      ],
      "source": [
        "pd.set_option('display.max_rows', None)\n",
        "\n",
        "\n",
        "sql_query = '''\n",
        "WITH salary_data AS (\n",
        "    SELECT \n",
        "        job_level,\n",
        "        annual_salary_min,\n",
        "        annual_salary_max\n",
        "    FROM remote_jobs\n",
        "    WHERE annual_salary_min IS NOT NULL AND annual_salary_max IS NOT NULL\n",
        ")\n",
        "SELECT \n",
        "    job_level,\n",
        "    COUNT(*) AS job_count,\n",
        "    ROUND(AVG(annual_salary_min)) AS avg_salary_min,\n",
        "    ROUND(AVG(annual_salary_max)) AS avg_salary_max\n",
        "FROM salary_data\n",
        "GROUP BY job_level\n",
        "ORDER BY avg_salary_max DESC;\n",
        "'''\n",
        "\n",
        "remote_salary_df = pd.read_sql(sql_query, con=engine)\n",
        "remote_salary_df\n"
      ]
    },
    {
      "cell_type": "markdown",
      "metadata": {},
      "source": [
        "\n",
        "### Insight:\n",
        "#### Senior level jobs tend to have a higher salary range on average.\n",
        "#### Entry-level jobs offer significantly lower pay.\n",
        "\n",
        "### Recommendation:\n",
        "#### Focus job scraping on higher-level positions to target premium salary ranges.\n",
        "\n",
        "### Prediction:\n",
        "#### As remote work trends grow, mid-level roles may see upward salary adjustment.\n"
      ]
    },
    {
      "cell_type": "markdown",
      "metadata": {},
      "source": [
        "\n",
        "\n",
        "\n",
        "#### ======================================================\n",
        "#### 🕵️ Remote Jobs - Diagnostic Query\n",
        "#### ======================================================\n",
        "\n",
        "#### Business Question:\n",
        "#### Which companies are posting the most high-paying jobs?\n"
      ]
    },
    {
      "cell_type": "code",
      "execution_count": 12,
      "metadata": {},
      "outputs": [
        {
          "data": {
            "text/html": [
              "<div>\n",
              "<style scoped>\n",
              "    .dataframe tbody tr th:only-of-type {\n",
              "        vertical-align: middle;\n",
              "    }\n",
              "\n",
              "    .dataframe tbody tr th {\n",
              "        vertical-align: top;\n",
              "    }\n",
              "\n",
              "    .dataframe thead th {\n",
              "        text-align: right;\n",
              "    }\n",
              "</style>\n",
              "<table border=\"1\" class=\"dataframe\">\n",
              "  <thead>\n",
              "    <tr style=\"text-align: right;\">\n",
              "      <th></th>\n",
              "      <th>company_name</th>\n",
              "      <th>high_paying_jobs</th>\n",
              "    </tr>\n",
              "  </thead>\n",
              "  <tbody>\n",
              "    <tr>\n",
              "      <th>0</th>\n",
              "      <td>CoinTracker</td>\n",
              "      <td>1</td>\n",
              "    </tr>\n",
              "    <tr>\n",
              "      <th>1</th>\n",
              "      <td>Luxury Presence</td>\n",
              "      <td>1</td>\n",
              "    </tr>\n",
              "    <tr>\n",
              "      <th>2</th>\n",
              "      <td>Salesloft</td>\n",
              "      <td>1</td>\n",
              "    </tr>\n",
              "  </tbody>\n",
              "</table>\n",
              "</div>"
            ],
            "text/plain": [
              "      company_name  high_paying_jobs\n",
              "0      CoinTracker                 1\n",
              "1  Luxury Presence                 1\n",
              "2        Salesloft                 1"
            ]
          },
          "execution_count": 12,
          "metadata": {},
          "output_type": "execute_result"
        }
      ],
      "source": [
        "\n",
        "sql_query = '''\n",
        "WITH high_salary_jobs AS (\n",
        "    SELECT \n",
        "        company_name,\n",
        "        annual_salary_max,\n",
        "        ROW_NUMBER() OVER (PARTITION BY company_name ORDER BY annual_salary_max DESC) AS rank\n",
        "    FROM remote_jobs\n",
        "    WHERE annual_salary_max > 100000\n",
        ")\n",
        "SELECT \n",
        "    company_name,\n",
        "    COUNT(*) AS high_paying_jobs\n",
        "FROM high_salary_jobs\n",
        "WHERE rank <= 5\n",
        "GROUP BY company_name\n",
        "ORDER BY high_paying_jobs DESC;\n",
        "'''\n",
        "\n",
        "remote_highpay_df = pd.read_sql(sql_query, con=engine)\n",
        "remote_highpay_df\n"
      ]
    },
    {
      "cell_type": "markdown",
      "metadata": {},
      "source": [
        "\n",
        "#### Insight:\n",
        "#### Certain companies consistently post high-paying jobs above 100k.\n",
        "\n",
        "#### Recommendation:\n",
        "#### Consider building partnerships with those companies or tracking their listings.\n",
        "\n",
        "#### Prediction:\n",
        "#### Their hiring trends could be indicators of high growth sectors.\n"
      ]
    }
  ],
  "metadata": {
    "colab": {
      "provenance": []
    },
    "kernelspec": {
      "display_name": ".venv",
      "language": "python",
      "name": "python3"
    },
    "language_info": {
      "codemirror_mode": {
        "name": "ipython",
        "version": 3
      },
      "file_extension": ".py",
      "mimetype": "text/x-python",
      "name": "python",
      "nbconvert_exporter": "python",
      "pygments_lexer": "ipython3",
      "version": "3.12.9"
    }
  },
  "nbformat": 4,
  "nbformat_minor": 0
}
